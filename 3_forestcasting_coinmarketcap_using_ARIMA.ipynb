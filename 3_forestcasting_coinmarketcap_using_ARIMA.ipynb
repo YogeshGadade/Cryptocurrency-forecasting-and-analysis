{
  "nbformat": 4,
  "nbformat_minor": 0,
  "metadata": {
    "kernelspec": {
      "display_name": "Python 3",
      "language": "python",
      "name": "python3"
    },
    "language_info": {
      "codemirror_mode": {
        "name": "ipython",
        "version": 3
      },
      "file_extension": ".py",
      "mimetype": "text/x-python",
      "name": "python",
      "nbconvert_exporter": "python",
      "pygments_lexer": "ipython3",
      "version": "3.8.5"
    },
    "colab": {
      "name": "EDA_WebMining_Modelling.ipynb",
      "provenance": [],
      "collapsed_sections": []
    },
    "widgets": {
      "application/vnd.jupyter.widget-state+json": {
        "1f7b04b5d46d4d919ac42b61bede35d0": {
          "model_module": "@jupyter-widgets/controls",
          "model_name": "HBoxModel",
          "model_module_version": "1.5.0",
          "state": {
            "_view_name": "HBoxView",
            "_dom_classes": [],
            "_model_name": "HBoxModel",
            "_view_module": "@jupyter-widgets/controls",
            "_model_module_version": "1.5.0",
            "_view_count": null,
            "_view_module_version": "1.5.0",
            "box_style": "",
            "layout": "IPY_MODEL_95ba974b0c174960af978d8425e341d2",
            "_model_module": "@jupyter-widgets/controls",
            "children": [
              "IPY_MODEL_6e5d04576c924c1195e3e739cfbfea09",
              "IPY_MODEL_4301541dab37499a951a68634faa8aea",
              "IPY_MODEL_cac10573e1af4c7c96920b139291d582"
            ]
          }
        },
        "95ba974b0c174960af978d8425e341d2": {
          "model_module": "@jupyter-widgets/base",
          "model_name": "LayoutModel",
          "model_module_version": "1.2.0",
          "state": {
            "_view_name": "LayoutView",
            "grid_template_rows": null,
            "right": null,
            "justify_content": null,
            "_view_module": "@jupyter-widgets/base",
            "overflow": null,
            "_model_module_version": "1.2.0",
            "_view_count": null,
            "flex_flow": null,
            "width": null,
            "min_width": null,
            "border": null,
            "align_items": null,
            "bottom": null,
            "_model_module": "@jupyter-widgets/base",
            "top": null,
            "grid_column": null,
            "overflow_y": null,
            "overflow_x": null,
            "grid_auto_flow": null,
            "grid_area": null,
            "grid_template_columns": null,
            "flex": null,
            "_model_name": "LayoutModel",
            "justify_items": null,
            "grid_row": null,
            "max_height": null,
            "align_content": null,
            "visibility": null,
            "align_self": null,
            "height": null,
            "min_height": null,
            "padding": null,
            "grid_auto_rows": null,
            "grid_gap": null,
            "max_width": null,
            "order": null,
            "_view_module_version": "1.2.0",
            "grid_template_areas": null,
            "object_position": null,
            "object_fit": null,
            "grid_auto_columns": null,
            "margin": null,
            "display": null,
            "left": null
          }
        },
        "6e5d04576c924c1195e3e739cfbfea09": {
          "model_module": "@jupyter-widgets/controls",
          "model_name": "HTMLModel",
          "model_module_version": "1.5.0",
          "state": {
            "_view_name": "HTMLView",
            "style": "IPY_MODEL_ade3b910164e406d96c698cc84a5b04c",
            "_dom_classes": [],
            "description": "",
            "_model_name": "HTMLModel",
            "placeholder": "​",
            "_view_module": "@jupyter-widgets/controls",
            "_model_module_version": "1.5.0",
            "value": "100%",
            "_view_count": null,
            "_view_module_version": "1.5.0",
            "description_tooltip": null,
            "_model_module": "@jupyter-widgets/controls",
            "layout": "IPY_MODEL_5682e1ede1d44650b8e29095cb2d6266"
          }
        },
        "4301541dab37499a951a68634faa8aea": {
          "model_module": "@jupyter-widgets/controls",
          "model_name": "FloatProgressModel",
          "model_module_version": "1.5.0",
          "state": {
            "_view_name": "ProgressView",
            "style": "IPY_MODEL_a3ebf88eb0d4421da89286b0376a2160",
            "_dom_classes": [],
            "description": "",
            "_model_name": "FloatProgressModel",
            "bar_style": "success",
            "max": 1,
            "_view_module": "@jupyter-widgets/controls",
            "_model_module_version": "1.5.0",
            "value": 1,
            "_view_count": null,
            "_view_module_version": "1.5.0",
            "orientation": "horizontal",
            "min": 0,
            "description_tooltip": null,
            "_model_module": "@jupyter-widgets/controls",
            "layout": "IPY_MODEL_ee765cd812144fab95d757de069c2301"
          }
        },
        "cac10573e1af4c7c96920b139291d582": {
          "model_module": "@jupyter-widgets/controls",
          "model_name": "HTMLModel",
          "model_module_version": "1.5.0",
          "state": {
            "_view_name": "HTMLView",
            "style": "IPY_MODEL_29a63616e09d487b9b79fbe375b5e41a",
            "_dom_classes": [],
            "description": "",
            "_model_name": "HTMLModel",
            "placeholder": "​",
            "_view_module": "@jupyter-widgets/controls",
            "_model_module_version": "1.5.0",
            "value": " 1/1 [00:02&lt;00:00,  2.31s/it]",
            "_view_count": null,
            "_view_module_version": "1.5.0",
            "description_tooltip": null,
            "_model_module": "@jupyter-widgets/controls",
            "layout": "IPY_MODEL_ec97e71d1f55440cbb73c8a5918df24a"
          }
        },
        "ade3b910164e406d96c698cc84a5b04c": {
          "model_module": "@jupyter-widgets/controls",
          "model_name": "DescriptionStyleModel",
          "model_module_version": "1.5.0",
          "state": {
            "_view_name": "StyleView",
            "_model_name": "DescriptionStyleModel",
            "description_width": "",
            "_view_module": "@jupyter-widgets/base",
            "_model_module_version": "1.5.0",
            "_view_count": null,
            "_view_module_version": "1.2.0",
            "_model_module": "@jupyter-widgets/controls"
          }
        },
        "5682e1ede1d44650b8e29095cb2d6266": {
          "model_module": "@jupyter-widgets/base",
          "model_name": "LayoutModel",
          "model_module_version": "1.2.0",
          "state": {
            "_view_name": "LayoutView",
            "grid_template_rows": null,
            "right": null,
            "justify_content": null,
            "_view_module": "@jupyter-widgets/base",
            "overflow": null,
            "_model_module_version": "1.2.0",
            "_view_count": null,
            "flex_flow": null,
            "width": null,
            "min_width": null,
            "border": null,
            "align_items": null,
            "bottom": null,
            "_model_module": "@jupyter-widgets/base",
            "top": null,
            "grid_column": null,
            "overflow_y": null,
            "overflow_x": null,
            "grid_auto_flow": null,
            "grid_area": null,
            "grid_template_columns": null,
            "flex": null,
            "_model_name": "LayoutModel",
            "justify_items": null,
            "grid_row": null,
            "max_height": null,
            "align_content": null,
            "visibility": null,
            "align_self": null,
            "height": null,
            "min_height": null,
            "padding": null,
            "grid_auto_rows": null,
            "grid_gap": null,
            "max_width": null,
            "order": null,
            "_view_module_version": "1.2.0",
            "grid_template_areas": null,
            "object_position": null,
            "object_fit": null,
            "grid_auto_columns": null,
            "margin": null,
            "display": null,
            "left": null
          }
        },
        "a3ebf88eb0d4421da89286b0376a2160": {
          "model_module": "@jupyter-widgets/controls",
          "model_name": "ProgressStyleModel",
          "model_module_version": "1.5.0",
          "state": {
            "_view_name": "StyleView",
            "_model_name": "ProgressStyleModel",
            "description_width": "",
            "_view_module": "@jupyter-widgets/base",
            "_model_module_version": "1.5.0",
            "_view_count": null,
            "_view_module_version": "1.2.0",
            "bar_color": null,
            "_model_module": "@jupyter-widgets/controls"
          }
        },
        "ee765cd812144fab95d757de069c2301": {
          "model_module": "@jupyter-widgets/base",
          "model_name": "LayoutModel",
          "model_module_version": "1.2.0",
          "state": {
            "_view_name": "LayoutView",
            "grid_template_rows": null,
            "right": null,
            "justify_content": null,
            "_view_module": "@jupyter-widgets/base",
            "overflow": null,
            "_model_module_version": "1.2.0",
            "_view_count": null,
            "flex_flow": null,
            "width": null,
            "min_width": null,
            "border": null,
            "align_items": null,
            "bottom": null,
            "_model_module": "@jupyter-widgets/base",
            "top": null,
            "grid_column": null,
            "overflow_y": null,
            "overflow_x": null,
            "grid_auto_flow": null,
            "grid_area": null,
            "grid_template_columns": null,
            "flex": null,
            "_model_name": "LayoutModel",
            "justify_items": null,
            "grid_row": null,
            "max_height": null,
            "align_content": null,
            "visibility": null,
            "align_self": null,
            "height": null,
            "min_height": null,
            "padding": null,
            "grid_auto_rows": null,
            "grid_gap": null,
            "max_width": null,
            "order": null,
            "_view_module_version": "1.2.0",
            "grid_template_areas": null,
            "object_position": null,
            "object_fit": null,
            "grid_auto_columns": null,
            "margin": null,
            "display": null,
            "left": null
          }
        },
        "29a63616e09d487b9b79fbe375b5e41a": {
          "model_module": "@jupyter-widgets/controls",
          "model_name": "DescriptionStyleModel",
          "model_module_version": "1.5.0",
          "state": {
            "_view_name": "StyleView",
            "_model_name": "DescriptionStyleModel",
            "description_width": "",
            "_view_module": "@jupyter-widgets/base",
            "_model_module_version": "1.5.0",
            "_view_count": null,
            "_view_module_version": "1.2.0",
            "_model_module": "@jupyter-widgets/controls"
          }
        },
        "ec97e71d1f55440cbb73c8a5918df24a": {
          "model_module": "@jupyter-widgets/base",
          "model_name": "LayoutModel",
          "model_module_version": "1.2.0",
          "state": {
            "_view_name": "LayoutView",
            "grid_template_rows": null,
            "right": null,
            "justify_content": null,
            "_view_module": "@jupyter-widgets/base",
            "overflow": null,
            "_model_module_version": "1.2.0",
            "_view_count": null,
            "flex_flow": null,
            "width": null,
            "min_width": null,
            "border": null,
            "align_items": null,
            "bottom": null,
            "_model_module": "@jupyter-widgets/base",
            "top": null,
            "grid_column": null,
            "overflow_y": null,
            "overflow_x": null,
            "grid_auto_flow": null,
            "grid_area": null,
            "grid_template_columns": null,
            "flex": null,
            "_model_name": "LayoutModel",
            "justify_items": null,
            "grid_row": null,
            "max_height": null,
            "align_content": null,
            "visibility": null,
            "align_self": null,
            "height": null,
            "min_height": null,
            "padding": null,
            "grid_auto_rows": null,
            "grid_gap": null,
            "max_width": null,
            "order": null,
            "_view_module_version": "1.2.0",
            "grid_template_areas": null,
            "object_position": null,
            "object_fit": null,
            "grid_auto_columns": null,
            "margin": null,
            "display": null,
            "left": null
          }
        }
      }
    }
  },
  "cells": [
    {
      "cell_type": "code",
      "metadata": {
        "id": "3v2cNbXqIOzG"
      },
      "source": [
        "import pandas as pd\n",
        "data = pd.read_csv('/content/5_years_data_top_crypto.csv')"
      ],
      "execution_count": 3,
      "outputs": []
    },
    {
      "cell_type": "code",
      "metadata": {
        "colab": {
          "base_uri": "https://localhost:8080/",
          "height": 424
        },
        "id": "Wtk5K86eIOzL",
        "outputId": "0a1be611-db02-4054-c382-4ae08555002d"
      },
      "source": [
        "data.head(100)\n"
      ],
      "execution_count": 4,
      "outputs": [
        {
          "output_type": "execute_result",
          "data": {
            "text/html": [
              "<div>\n",
              "<style scoped>\n",
              "    .dataframe tbody tr th:only-of-type {\n",
              "        vertical-align: middle;\n",
              "    }\n",
              "\n",
              "    .dataframe tbody tr th {\n",
              "        vertical-align: top;\n",
              "    }\n",
              "\n",
              "    .dataframe thead th {\n",
              "        text-align: right;\n",
              "    }\n",
              "</style>\n",
              "<table border=\"1\" class=\"dataframe\">\n",
              "  <thead>\n",
              "    <tr style=\"text-align: right;\">\n",
              "      <th></th>\n",
              "      <th>Date</th>\n",
              "      <th>Open</th>\n",
              "      <th>High</th>\n",
              "      <th>Low</th>\n",
              "      <th>Close</th>\n",
              "      <th>Volume</th>\n",
              "      <th>MarketCap</th>\n",
              "      <th>CryptoName</th>\n",
              "    </tr>\n",
              "  </thead>\n",
              "  <tbody>\n",
              "    <tr>\n",
              "      <th>0</th>\n",
              "      <td>2021-10-25</td>\n",
              "      <td>60893.93</td>\n",
              "      <td>63729.33</td>\n",
              "      <td>60691.80</td>\n",
              "      <td>63039.83</td>\n",
              "      <td>3.106491e+10</td>\n",
              "      <td>1.188575e+12</td>\n",
              "      <td>bitcoin</td>\n",
              "    </tr>\n",
              "    <tr>\n",
              "      <th>1</th>\n",
              "      <td>2021-10-24</td>\n",
              "      <td>61368.34</td>\n",
              "      <td>61505.80</td>\n",
              "      <td>59643.35</td>\n",
              "      <td>60930.84</td>\n",
              "      <td>2.731618e+10</td>\n",
              "      <td>1.148743e+12</td>\n",
              "      <td>bitcoin</td>\n",
              "    </tr>\n",
              "    <tr>\n",
              "      <th>2</th>\n",
              "      <td>2021-10-23</td>\n",
              "      <td>60694.63</td>\n",
              "      <td>61743.88</td>\n",
              "      <td>59826.52</td>\n",
              "      <td>61393.62</td>\n",
              "      <td>2.688255e+10</td>\n",
              "      <td>1.157410e+12</td>\n",
              "      <td>bitcoin</td>\n",
              "    </tr>\n",
              "    <tr>\n",
              "      <th>3</th>\n",
              "      <td>2021-10-22</td>\n",
              "      <td>62237.89</td>\n",
              "      <td>63715.02</td>\n",
              "      <td>60122.80</td>\n",
              "      <td>60692.26</td>\n",
              "      <td>3.843408e+10</td>\n",
              "      <td>1.144131e+12</td>\n",
              "      <td>bitcoin</td>\n",
              "    </tr>\n",
              "    <tr>\n",
              "      <th>4</th>\n",
              "      <td>2021-10-21</td>\n",
              "      <td>66002.23</td>\n",
              "      <td>66600.55</td>\n",
              "      <td>62117.41</td>\n",
              "      <td>62210.17</td>\n",
              "      <td>4.590812e+10</td>\n",
              "      <td>1.172684e+12</td>\n",
              "      <td>bitcoin</td>\n",
              "    </tr>\n",
              "    <tr>\n",
              "      <th>...</th>\n",
              "      <td>...</td>\n",
              "      <td>...</td>\n",
              "      <td>...</td>\n",
              "      <td>...</td>\n",
              "      <td>...</td>\n",
              "      <td>...</td>\n",
              "      <td>...</td>\n",
              "      <td>...</td>\n",
              "    </tr>\n",
              "    <tr>\n",
              "      <th>95</th>\n",
              "      <td>2021-07-22</td>\n",
              "      <td>32138.87</td>\n",
              "      <td>32576.40</td>\n",
              "      <td>31745.30</td>\n",
              "      <td>32313.11</td>\n",
              "      <td>1.955523e+10</td>\n",
              "      <td>6.063169e+11</td>\n",
              "      <td>bitcoin</td>\n",
              "    </tr>\n",
              "    <tr>\n",
              "      <th>96</th>\n",
              "      <td>2021-07-21</td>\n",
              "      <td>29796.29</td>\n",
              "      <td>32752.33</td>\n",
              "      <td>29526.18</td>\n",
              "      <td>32110.69</td>\n",
              "      <td>2.820302e+10</td>\n",
              "      <td>6.024893e+11</td>\n",
              "      <td>bitcoin</td>\n",
              "    </tr>\n",
              "    <tr>\n",
              "      <th>97</th>\n",
              "      <td>2021-07-20</td>\n",
              "      <td>30838.29</td>\n",
              "      <td>31006.19</td>\n",
              "      <td>29360.96</td>\n",
              "      <td>29807.35</td>\n",
              "      <td>2.314827e+10</td>\n",
              "      <td>5.592443e+11</td>\n",
              "      <td>bitcoin</td>\n",
              "    </tr>\n",
              "    <tr>\n",
              "      <th>98</th>\n",
              "      <td>2021-07-19</td>\n",
              "      <td>31800.01</td>\n",
              "      <td>31885.86</td>\n",
              "      <td>30563.74</td>\n",
              "      <td>30817.83</td>\n",
              "      <td>2.043479e+10</td>\n",
              "      <td>5.781781e+11</td>\n",
              "      <td>bitcoin</td>\n",
              "    </tr>\n",
              "    <tr>\n",
              "      <th>99</th>\n",
              "      <td>2021-07-18</td>\n",
              "      <td>31533.88</td>\n",
              "      <td>32399.00</td>\n",
              "      <td>31215.49</td>\n",
              "      <td>31796.81</td>\n",
              "      <td>1.878799e+10</td>\n",
              "      <td>5.965133e+11</td>\n",
              "      <td>bitcoin</td>\n",
              "    </tr>\n",
              "  </tbody>\n",
              "</table>\n",
              "<p>100 rows × 8 columns</p>\n",
              "</div>"
            ],
            "text/plain": [
              "          Date      Open      High  ...        Volume     MarketCap  CryptoName\n",
              "0   2021-10-25  60893.93  63729.33  ...  3.106491e+10  1.188575e+12     bitcoin\n",
              "1   2021-10-24  61368.34  61505.80  ...  2.731618e+10  1.148743e+12     bitcoin\n",
              "2   2021-10-23  60694.63  61743.88  ...  2.688255e+10  1.157410e+12     bitcoin\n",
              "3   2021-10-22  62237.89  63715.02  ...  3.843408e+10  1.144131e+12     bitcoin\n",
              "4   2021-10-21  66002.23  66600.55  ...  4.590812e+10  1.172684e+12     bitcoin\n",
              "..         ...       ...       ...  ...           ...           ...         ...\n",
              "95  2021-07-22  32138.87  32576.40  ...  1.955523e+10  6.063169e+11     bitcoin\n",
              "96  2021-07-21  29796.29  32752.33  ...  2.820302e+10  6.024893e+11     bitcoin\n",
              "97  2021-07-20  30838.29  31006.19  ...  2.314827e+10  5.592443e+11     bitcoin\n",
              "98  2021-07-19  31800.01  31885.86  ...  2.043479e+10  5.781781e+11     bitcoin\n",
              "99  2021-07-18  31533.88  32399.00  ...  1.878799e+10  5.965133e+11     bitcoin\n",
              "\n",
              "[100 rows x 8 columns]"
            ]
          },
          "metadata": {},
          "execution_count": 4
        }
      ]
    },
    {
      "cell_type": "code",
      "metadata": {
        "colab": {
          "base_uri": "https://localhost:8080/"
        },
        "id": "PFco4uNLIOzM",
        "outputId": "f318448c-abab-4e09-9001-25588758e2ee"
      },
      "source": [
        "data.shape\n"
      ],
      "execution_count": 5,
      "outputs": [
        {
          "output_type": "execute_result",
          "data": {
            "text/plain": [
              "(8518, 8)"
            ]
          },
          "metadata": {},
          "execution_count": 5
        }
      ]
    },
    {
      "cell_type": "markdown",
      "metadata": {
        "id": "sf-bW_1aIOzN"
      },
      "source": [
        "EDA on cryptocurrencies"
      ]
    },
    {
      "cell_type": "code",
      "metadata": {
        "colab": {
          "base_uri": "https://localhost:8080/",
          "height": 300
        },
        "id": "ieqRNxm5IOzO",
        "outputId": "f98e0961-34b2-40ff-9828-118919b62dca"
      },
      "source": [
        "data.describe()"
      ],
      "execution_count": 6,
      "outputs": [
        {
          "output_type": "execute_result",
          "data": {
            "text/html": [
              "<div>\n",
              "<style scoped>\n",
              "    .dataframe tbody tr th:only-of-type {\n",
              "        vertical-align: middle;\n",
              "    }\n",
              "\n",
              "    .dataframe tbody tr th {\n",
              "        vertical-align: top;\n",
              "    }\n",
              "\n",
              "    .dataframe thead th {\n",
              "        text-align: right;\n",
              "    }\n",
              "</style>\n",
              "<table border=\"1\" class=\"dataframe\">\n",
              "  <thead>\n",
              "    <tr style=\"text-align: right;\">\n",
              "      <th></th>\n",
              "      <th>Open</th>\n",
              "      <th>High</th>\n",
              "      <th>Low</th>\n",
              "      <th>Close</th>\n",
              "      <th>Volume</th>\n",
              "      <th>MarketCap</th>\n",
              "    </tr>\n",
              "  </thead>\n",
              "  <tbody>\n",
              "    <tr>\n",
              "      <th>count</th>\n",
              "      <td>8518.000000</td>\n",
              "      <td>8518.000000</td>\n",
              "      <td>8518.000000</td>\n",
              "      <td>8518.000000</td>\n",
              "      <td>8.518000e+03</td>\n",
              "      <td>8.518000e+03</td>\n",
              "    </tr>\n",
              "    <tr>\n",
              "      <th>mean</th>\n",
              "      <td>3037.422674</td>\n",
              "      <td>3125.902879</td>\n",
              "      <td>2943.270872</td>\n",
              "      <td>3045.280940</td>\n",
              "      <td>1.284299e+10</td>\n",
              "      <td>7.491193e+10</td>\n",
              "    </tr>\n",
              "    <tr>\n",
              "      <th>std</th>\n",
              "      <td>8915.854287</td>\n",
              "      <td>9180.542588</td>\n",
              "      <td>8629.909603</td>\n",
              "      <td>8939.530224</td>\n",
              "      <td>2.386058e+10</td>\n",
              "      <td>1.700539e+11</td>\n",
              "    </tr>\n",
              "    <tr>\n",
              "      <th>min</th>\n",
              "      <td>0.018410</td>\n",
              "      <td>0.021050</td>\n",
              "      <td>0.017350</td>\n",
              "      <td>0.018540</td>\n",
              "      <td>9.284000e+03</td>\n",
              "      <td>0.000000e+00</td>\n",
              "    </tr>\n",
              "    <tr>\n",
              "      <th>25%</th>\n",
              "      <td>1.000000</td>\n",
              "      <td>1.010000</td>\n",
              "      <td>0.997100</td>\n",
              "      <td>1.000000</td>\n",
              "      <td>1.828869e+08</td>\n",
              "      <td>2.218582e+09</td>\n",
              "    </tr>\n",
              "    <tr>\n",
              "      <th>50%</th>\n",
              "      <td>17.685000</td>\n",
              "      <td>18.155000</td>\n",
              "      <td>17.085000</td>\n",
              "      <td>17.695000</td>\n",
              "      <td>2.420485e+09</td>\n",
              "      <td>1.401750e+10</td>\n",
              "    </tr>\n",
              "    <tr>\n",
              "      <th>75%</th>\n",
              "      <td>793.760000</td>\n",
              "      <td>832.960000</td>\n",
              "      <td>777.920000</td>\n",
              "      <td>803.842500</td>\n",
              "      <td>1.616679e+10</td>\n",
              "      <td>6.649553e+10</td>\n",
              "    </tr>\n",
              "    <tr>\n",
              "      <th>max</th>\n",
              "      <td>66002.230000</td>\n",
              "      <td>66930.390000</td>\n",
              "      <td>63610.670000</td>\n",
              "      <td>65992.840000</td>\n",
              "      <td>3.509679e+11</td>\n",
              "      <td>1.243927e+12</td>\n",
              "    </tr>\n",
              "  </tbody>\n",
              "</table>\n",
              "</div>"
            ],
            "text/plain": [
              "               Open          High  ...        Volume     MarketCap\n",
              "count   8518.000000   8518.000000  ...  8.518000e+03  8.518000e+03\n",
              "mean    3037.422674   3125.902879  ...  1.284299e+10  7.491193e+10\n",
              "std     8915.854287   9180.542588  ...  2.386058e+10  1.700539e+11\n",
              "min        0.018410      0.021050  ...  9.284000e+03  0.000000e+00\n",
              "25%        1.000000      1.010000  ...  1.828869e+08  2.218582e+09\n",
              "50%       17.685000     18.155000  ...  2.420485e+09  1.401750e+10\n",
              "75%      793.760000    832.960000  ...  1.616679e+10  6.649553e+10\n",
              "max    66002.230000  66930.390000  ...  3.509679e+11  1.243927e+12\n",
              "\n",
              "[8 rows x 6 columns]"
            ]
          },
          "metadata": {},
          "execution_count": 6
        }
      ]
    },
    {
      "cell_type": "markdown",
      "metadata": {
        "id": "o4Pk0lWlIOzP"
      },
      "source": [
        "Description of the dataframe columns:\n",
        "\n",
        "1)Date - Date range of cryptocurrency for analysis\n",
        "\n",
        "2)Open - Price of the cryptocurrency at the Start of the Day\n",
        "\n",
        "3)High - Highest Price of the cryptocurrency\n",
        "\n",
        "4)Low  -Lowest Price of the cryptocurrency\n",
        "\n",
        "5)Close -Price of the cryptocurrency at the End of the Day\n",
        "\n",
        "6)Volume -Volume is the amount of assets traded during a specific time frame\n",
        "\n",
        "7)MarketCap -Total value of cryptocurrency.\n",
        "\n",
        "8)CryptoName - Name of the cryptocurrency.\n"
      ]
    },
    {
      "cell_type": "markdown",
      "metadata": {
        "id": "mQwxiKq9IOzZ"
      },
      "source": [
        "<h2>Time-series forecasting</h2>"
      ]
    },
    {
      "cell_type": "code",
      "metadata": {
        "colab": {
          "base_uri": "https://localhost:8080/"
        },
        "id": "a34_3I9DIOzZ",
        "outputId": "a3f9198c-40f9-4a2d-cb1e-0c6bc77abfed"
      },
      "source": [
        "d_time = (data['Date'] >= '2020-10-23') & (data['Date'] <= '2021-10-23')\n",
        "data_time=data.loc[d_time]\n",
        "data_time\n",
        "print (\"Time range start:\",data_time.Date.min())\n",
        "print (\"Time range end  :\",data_time.Date.max())"
      ],
      "execution_count": 7,
      "outputs": [
        {
          "output_type": "stream",
          "name": "stdout",
          "text": [
            "Time range start: 2020-10-23\n",
            "Time range end  : 2021-10-23\n"
          ]
        }
      ]
    },
    {
      "cell_type": "code",
      "metadata": {
        "colab": {
          "base_uri": "https://localhost:8080/",
          "height": 282
        },
        "id": "xKEbN4zDIOza",
        "outputId": "bd980f3f-291a-4c85-9b75-66b007f49f36"
      },
      "source": [
        "data_time.Close.hist(bins=3)"
      ],
      "execution_count": 8,
      "outputs": [
        {
          "output_type": "execute_result",
          "data": {
            "text/plain": [
              "<matplotlib.axes._subplots.AxesSubplot at 0x7fa35eeb6c10>"
            ]
          },
          "metadata": {},
          "execution_count": 8
        },
        {
          "output_type": "display_data",
          "data": {
            "image/png": "[encoded data removed]",
            "text/plain": [
              "<Figure size 432x288 with 1 Axes>"
            ]
          },
          "metadata": {
            "needs_background": "light"
          }
        }
      ]
    },
    {
      "cell_type": "code",
      "metadata": {
        "colab": {
          "base_uri": "https://localhost:8080/"
        },
        "id": "KE3rF1p7IOza",
        "outputId": "0588adb0-d4e1-401e-e68e-a8f9774d4009"
      },
      "source": [
        "#Augmented Dickey Fuller test ( ADF Test) is a common statistical test used to test whether a given Time series is stationary or not .\n",
        "from statsmodels.tsa.stattools import adfuller\n",
        "\n",
        "adftest = adfuller(data_time['Close'])\n",
        "h0= \"Data is not stationary\"\n",
        "h1= \"Data is stationary\"\n",
        "\n",
        "print(\"ADF value is: \",adftest[0])\n",
        "print(\"The p-value is : \", adftest[1])\n",
        "print(\"Number of lags are: \", adftest[2])\n",
        "print(\"Num Of Observations Used For ADF Regression:\", adftest[3])\n",
        "print(\"Critical Values are:\")\n",
        "for key, value in adftest[4].items():\n",
        "    print('\\t%s: %.3f' % (key, value))"
      ],
      "execution_count": 9,
      "outputs": [
        {
          "output_type": "stream",
          "name": "stdout",
          "text": [
            "ADF value is:  -2.08201818353458\n",
            "The p-value is :  0.2518063798197273\n",
            "Number of lags are:  24\n",
            "Num Of Observations Used For ADF Regression: 1805\n",
            "Critical Values are:\n",
            "\t1%: -3.434\n",
            "\t5%: -2.863\n",
            "\t10%: -2.568\n"
          ]
        }
      ]
    },
    {
      "cell_type": "markdown",
      "metadata": {
        "id": "oknpLV64IOza"
      },
      "source": [
        "<h3>Observation are:</h3>\n",
        "<p>Here we can observe that ADF value is -2.08 , the more negetive the value is it means we cant reject the null hypothesis , but we can say that data is not stationary.</p>\n",
        "<p>But , if we compare ADF value with -2.08 which is greater than 1% , so with significance level less than 1% we can accept the null hypothesis that data is not stationary.</p>"
      ]
    },
    {
      "cell_type": "markdown",
      "metadata": {
        "id": "Z7o9ll1qIOza"
      },
      "source": [
        "<h2>Arima</h2>"
      ]
    },
    {
      "cell_type": "code",
      "metadata": {
        "colab": {
          "base_uri": "https://localhost:8080/"
        },
        "id": "urAsa1W0IOza",
        "outputId": "61ddc3b6-e1bf-4853-be3d-aad8793d9505"
      },
      "source": [
        "from pmdarima import auto_arima\n",
        "\n",
        "#d is The order of first-differencing. \n",
        "#trace is to print the status of fit\n",
        "#If random is True, rather than perform an exhaustive search or stepwise search, only n_fits ARIMA models will be fit\n",
        "#If random is True and a “random search” is going to be performed, n_iter is the number of ARIMA models to be fit.\n",
        "\n",
        "auto_fit = auto_arima(data_time['Close'],d=2,error_action='warn', trace=True ,random='True',suppress_warnings=True,n_fits=15)"
      ],
      "execution_count": 10,
      "outputs": [
        {
          "output_type": "stream",
          "name": "stdout",
          "text": [
            "Performing stepwise search to minimize aic\n",
            " ARIMA(2,2,2)(0,0,0)[0]             : AIC=inf, Time=2.17 sec\n",
            " ARIMA(0,2,0)(0,0,0)[0]             : AIC=31081.130, Time=0.04 sec\n",
            " ARIMA(1,2,0)(0,0,0)[0]             : AIC=30582.797, Time=0.09 sec\n",
            " ARIMA(0,2,1)(0,0,0)[0]             : AIC=30212.431, Time=0.26 sec\n",
            " ARIMA(1,2,1)(0,0,0)[0]             : AIC=inf, Time=0.70 sec\n",
            " ARIMA(0,2,2)(0,0,0)[0]             : AIC=inf, Time=0.85 sec\n",
            " ARIMA(1,2,2)(0,0,0)[0]             : AIC=inf, Time=2.16 sec\n",
            " ARIMA(0,2,1)(0,0,0)[0] intercept   : AIC=30214.081, Time=0.87 sec\n",
            "\n",
            "Best model:  ARIMA(0,2,1)(0,0,0)[0]          \n",
            "Total fit time: 7.158 seconds\n"
          ]
        }
      ]
    },
    {
      "cell_type": "code",
      "metadata": {
        "colab": {
          "base_uri": "https://localhost:8080/",
          "height": 409
        },
        "id": "gEY_udAlIOzb",
        "outputId": "a390856a-edf4-449b-e954-a8092c4e084f"
      },
      "source": [
        "auto_fit.summary()"
      ],
      "execution_count": 11,
      "outputs": [
        {
          "output_type": "execute_result",
          "data": {
            "text/html": [
              "<table class=\"simpletable\">\n",
              "<caption>SARIMAX Results</caption>\n",
              "<tr>\n",
              "  <th>Dep. Variable:</th>           <td>y</td>        <th>  No. Observations:  </th>    <td>1830</td>   \n",
              "</tr>\n",
              "<tr>\n",
              "  <th>Model:</th>           <td>SARIMAX(0, 2, 1)</td> <th>  Log Likelihood     </th> <td>-15104.215</td>\n",
              "</tr>\n",
              "<tr>\n",
              "  <th>Date:</th>            <td>Sun, 28 Nov 2021</td> <th>  AIC                </th>  <td>30212.431</td>\n",
              "</tr>\n",
              "<tr>\n",
              "  <th>Time:</th>                <td>01:23:46</td>     <th>  BIC                </th>  <td>30223.453</td>\n",
              "</tr>\n",
              "<tr>\n",
              "  <th>Sample:</th>                  <td>0</td>        <th>  HQIC               </th>  <td>30216.496</td>\n",
              "</tr>\n",
              "<tr>\n",
              "  <th></th>                      <td> - 1830</td>     <th>                     </th>      <td> </td>    \n",
              "</tr>\n",
              "<tr>\n",
              "  <th>Covariance Type:</th>        <td>opg</td>       <th>                     </th>      <td> </td>    \n",
              "</tr>\n",
              "</table>\n",
              "<table class=\"simpletable\">\n",
              "<tr>\n",
              "     <td></td>       <th>coef</th>     <th>std err</th>      <th>z</th>      <th>P>|z|</th>  <th>[0.025</th>    <th>0.975]</th>  \n",
              "</tr>\n",
              "<tr>\n",
              "  <th>ma.L1</th>  <td>   -0.8247</td> <td>    0.005</td> <td> -163.421</td> <td> 0.000</td> <td>   -0.835</td> <td>   -0.815</td>\n",
              "</tr>\n",
              "<tr>\n",
              "  <th>sigma2</th> <td>  7.44e+05</td> <td> 7094.370</td> <td>  104.877</td> <td> 0.000</td> <td>  7.3e+05</td> <td> 7.58e+05</td>\n",
              "</tr>\n",
              "</table>\n",
              "<table class=\"simpletable\">\n",
              "<tr>\n",
              "  <th>Ljung-Box (L1) (Q):</th>     <td>0.06</td> <th>  Jarque-Bera (JB):  </th> <td>56717.53</td>\n",
              "</tr>\n",
              "<tr>\n",
              "  <th>Prob(Q):</th>                <td>0.81</td> <th>  Prob(JB):          </th>   <td>0.00</td>  \n",
              "</tr>\n",
              "<tr>\n",
              "  <th>Heteroskedasticity (H):</th> <td>0.00</td> <th>  Skew:              </th>   <td>-1.85</td> \n",
              "</tr>\n",
              "<tr>\n",
              "  <th>Prob(H) (two-sided):</th>    <td>0.00</td> <th>  Kurtosis:          </th>   <td>30.04</td> \n",
              "</tr>\n",
              "</table><br/><br/>Warnings:<br/>[1] Covariance matrix calculated using the outer product of gradients (complex-step)."
            ],
            "text/plain": [
              "<class 'statsmodels.iolib.summary.Summary'>\n",
              "\"\"\"\n",
              "                               SARIMAX Results                                \n",
              "==============================================================================\n",
              "Dep. Variable:                      y   No. Observations:                 1830\n",
              "Model:               SARIMAX(0, 2, 1)   Log Likelihood              -15104.215\n",
              "Date:                Sun, 28 Nov 2021   AIC                          30212.431\n",
              "Time:                        01:23:46   BIC                          30223.453\n",
              "Sample:                             0   HQIC                         30216.496\n",
              "                               - 1830                                         \n",
              "Covariance Type:                  opg                                         \n",
              "==============================================================================\n",
              "                 coef    std err          z      P>|z|      [0.025      0.975]\n",
              "------------------------------------------------------------------------------\n",
              "ma.L1         -0.8247      0.005   -163.421      0.000      -0.835      -0.815\n",
              "sigma2       7.44e+05   7094.370    104.877      0.000     7.3e+05    7.58e+05\n",
              "===================================================================================\n",
              "Ljung-Box (L1) (Q):                   0.06   Jarque-Bera (JB):             56717.53\n",
              "Prob(Q):                              0.81   Prob(JB):                         0.00\n",
              "Heteroskedasticity (H):               0.00   Skew:                            -1.85\n",
              "Prob(H) (two-sided):                  0.00   Kurtosis:                        30.04\n",
              "===================================================================================\n",
              "\n",
              "Warnings:\n",
              "[1] Covariance matrix calculated using the outer product of gradients (complex-step).\n",
              "\"\"\""
            ]
          },
          "metadata": {},
          "execution_count": 11
        }
      ]
    },
    {
      "cell_type": "code",
      "metadata": {
        "id": "2Bl-1CrwIOzb"
      },
      "source": [
        "# train test split for testing the model\n",
        "\n",
        "train_data=data_time['Close'].iloc[:-120]\n",
        "test_data =data_time['Close'].iloc[-120:]"
      ],
      "execution_count": 12,
      "outputs": []
    },
    {
      "cell_type": "code",
      "metadata": {
        "id": "VEPDNitEIOzb"
      },
      "source": [
        "# fitting the training data with autoarima.\n",
        "model = auto_fit.fit(train_data)"
      ],
      "execution_count": 13,
      "outputs": []
    },
    {
      "cell_type": "code",
      "metadata": {
        "colab": {
          "base_uri": "https://localhost:8080/",
          "height": 265
        },
        "id": "-ubO1VPjIOzb",
        "outputId": "e96d9ec7-c7d6-40e2-dc3d-dfc771da3fae"
      },
      "source": [
        "#Forecasting for 120 hours in future for Cryptocurrency closing price.\n",
        "import numpy as np\n",
        "import matplotlib.pyplot as plt\n",
        "\n",
        "\n",
        "forecast = model.predict(n_periods = 120, return_conf_int = True)\n",
        "plt.plot(np.array(forecast[0]), label='Prediction')\n",
        "plt.plot(np.array(test_data), label='Actual')\n",
        "a=plt.legend()"
      ],
      "execution_count": 15,
      "outputs": [
        {
          "output_type": "display_data",
          "data": {
            "image/png": "[encoded data removed]",
            "text/plain": [
              "<Figure size 432x288 with 1 Axes>"
            ]
          },
          "metadata": {
            "needs_background": "light"
          }
        }
      ]
    },
    {
      "cell_type": "code",
      "metadata": {
        "id": "7ujwPmZrIOzc"
      },
      "source": [
        "y_hat=np.array(test_data)\n",
        "y_pred=np.array(forecast[0])"
      ],
      "execution_count": 16,
      "outputs": []
    },
    {
      "cell_type": "code",
      "metadata": {
        "colab": {
          "base_uri": "https://localhost:8080/"
        },
        "id": "vtjY2cfGIOzc",
        "outputId": "c962be90-dfa3-4ba7-9e2e-7e632366047e"
      },
      "source": [
        "y_hat"
      ],
      "execution_count": 17,
      "outputs": [
        {
          "output_type": "execute_result",
          "data": {
            "text/plain": [
              "array([332.62, 195.93, 164.67, 130.06, 129.57, 136.43, 133.45, 136.95,\n",
              "       124.43, 129.74, 107.9 ,  79.83,  68.59,  72.73,  67.85,  55.93,\n",
              "        52.24,  51.06,  51.61,  44.28,  44.77,  42.85,  42.53,  40.99,\n",
              "        41.69,  41.62,  41.88,  40.82,  40.86,  38.65,  42.61,  42.79,\n",
              "        45.35,  45.68,  43.17,  40.92,  41.79,  40.14,  38.11,  38.37,\n",
              "        42.45,  43.93,  42.4 ,  43.45,  42.17,  41.73,  40.93,  41.15,\n",
              "        38.24,  37.91,  37.38,  38.14,  38.95,  35.84,  33.51,  33.48,\n",
              "        33.16,  32.5 ,  31.1 ,  33.48,  32.27,  34.16,  33.3 ,  30.94,\n",
              "        30.18,  30.49,  29.55,  30.03,  29.1 ,  28.16,  27.36,  27.7 ,\n",
              "        28.13,  27.64,  29.38,  29.54,  29.73,  29.07,  30.7 ,  30.3 ,\n",
              "        30.11,  31.39,  30.12,  29.14,  28.48,  28.2 ,  31.34,  33.8 ,\n",
              "        30.97,  29.93,  30.39,  28.89,  28.09,  28.08,  28.53,  28.06,\n",
              "        27.62,  27.94,  28.18,  27.61,  27.96,  28.19,  28.02,  28.31,\n",
              "        27.74,  29.02,  27.68,  26.93,  26.86,  27.88,  28.46,  28.43,\n",
              "        28.51,  29.84,  30.36,  31.64,  31.15,  30.11,  30.59,  30.63])"
            ]
          },
          "metadata": {},
          "execution_count": 17
        }
      ]
    },
    {
      "cell_type": "code",
      "metadata": {
        "colab": {
          "base_uri": "https://localhost:8080/"
        },
        "id": "IAU0Ms9GIOzc",
        "outputId": "e940453b-d162-462b-e4fe-4acc455b3d0f"
      },
      "source": [
        "y_pred"
      ],
      "execution_count": 18,
      "outputs": [
        {
          "output_type": "execute_result",
          "data": {
            "text/plain": [
              "array([256.60046978, 257.25093956, 257.90140934, 258.55187912,\n",
              "       259.2023489 , 259.85281867, 260.50328845, 261.15375823,\n",
              "       261.80422801, 262.45469779, 263.10516757, 263.75563735,\n",
              "       264.40610713, 265.05657691, 265.70704669, 266.35751646,\n",
              "       267.00798624, 267.65845602, 268.3089258 , 268.95939558,\n",
              "       269.60986536, 270.26033514, 270.91080492, 271.5612747 ,\n",
              "       272.21174448, 272.86221426, 273.51268403, 274.16315381,\n",
              "       274.81362359, 275.46409337, 276.11456315, 276.76503293,\n",
              "       277.41550271, 278.06597249, 278.71644227, 279.36691205,\n",
              "       280.01738182, 280.6678516 , 281.31832138, 281.96879116,\n",
              "       282.61926094, 283.26973072, 283.9202005 , 284.57067028,\n",
              "       285.22114006, 285.87160984, 286.52207962, 287.17254939,\n",
              "       287.82301917, 288.47348895, 289.12395873, 289.77442851,\n",
              "       290.42489829, 291.07536807, 291.72583785, 292.37630763,\n",
              "       293.02677741, 293.67724718, 294.32771696, 294.97818674,\n",
              "       295.62865652, 296.2791263 , 296.92959608, 297.58006586,\n",
              "       298.23053564, 298.88100542, 299.5314752 , 300.18194497,\n",
              "       300.83241475, 301.48288453, 302.13335431, 302.78382409,\n",
              "       303.43429387, 304.08476365, 304.73523343, 305.38570321,\n",
              "       306.03617299, 306.68664277, 307.33711254, 307.98758232,\n",
              "       308.6380521 , 309.28852188, 309.93899166, 310.58946144,\n",
              "       311.23993122, 311.890401  , 312.54087078, 313.19134056,\n",
              "       313.84181033, 314.49228011, 315.14274989, 315.79321967,\n",
              "       316.44368945, 317.09415923, 317.74462901, 318.39509879,\n",
              "       319.04556857, 319.69603835, 320.34650813, 320.9969779 ,\n",
              "       321.64744768, 322.29791746, 322.94838724, 323.59885702,\n",
              "       324.2493268 , 324.89979658, 325.55026636, 326.20073614,\n",
              "       326.85120592, 327.50167569, 328.15214547, 328.80261525,\n",
              "       329.45308503, 330.10355481, 330.75402459, 331.40449437,\n",
              "       332.05496415, 332.70543393, 333.35590371, 334.00637349])"
            ]
          },
          "metadata": {},
          "execution_count": 18
        }
      ]
    },
    {
      "cell_type": "code",
      "metadata": {
        "colab": {
          "base_uri": "https://localhost:8080/"
        },
        "id": "Qw9rgvFIIOzc",
        "outputId": "6302da15-c9db-46ae-eb59-1ad8f67a532c"
      },
      "source": [
        "from sklearn.metrics import mean_absolute_error\n",
        "\n",
        "mean_absolute_error(y_hat, y_pred)"
      ],
      "execution_count": 19,
      "outputs": [
        {
          "output_type": "execute_result",
          "data": {
            "text/plain": [
              "249.68483046911874"
            ]
          },
          "metadata": {},
          "execution_count": 19
        }
      ]
    },
    {
      "cell_type": "markdown",
      "metadata": {
        "id": "CsI6uN84IOzc"
      },
      "source": [
        "<h2>FBProphet</h2>\n",
        "<p>Prophet is robust to missing data and shifts in the trend, and typically handles outliers well.It is automatic forecasting procedure.</p>"
      ]
    },
    {
      "cell_type": "markdown",
      "metadata": {
        "id": "fH8llVI8IOzd"
      },
      "source": [
        "<p> <h4>Steps to create the model:</h4>\n",
        "    \n",
        "1.Initialize Model:\n",
        "    Prophet()\n",
        "    \n",
        "2.Set columns as ds,y\n",
        "    \n",
        "3.Fit dataset: \n",
        "    Prophet().fit()\n",
        "    \n",
        "4.Create Dates To predict: \n",
        "    Prophet().make_future_dataframe(periods=168)\n",
        "    \n",
        "5.Predict :\n",
        "    Prophet().predict(future_dates)\n",
        "    \n",
        "6.Plot:\n",
        "    Prophet().plot(predictions)\n",
        "</p>"
      ]
    },
    {
      "cell_type": "code",
      "metadata": {
        "colab": {
          "base_uri": "https://localhost:8080/"
        },
        "id": "TFUOBH8eIOze",
        "outputId": "0707f02b-a225-42a4-da63-ada9cdf6e5a7"
      },
      "source": [
        "from fbprophet import Prophet\n",
        "\n",
        "df = data_time[['Date','Close']]\n",
        "df.columns = ['ds','y']\n",
        "df['ds'] = pd.to_datetime(df['ds'])\n",
        "df.head()\n",
        "\n",
        "model=Prophet()\n",
        "\n",
        "model.fit(df)"
      ],
      "execution_count": 27,
      "outputs": [
        {
          "output_type": "stream",
          "name": "stderr",
          "text": [
            "/usr/local/lib/python3.7/dist-packages/ipykernel_launcher.py:5: SettingWithCopyWarning:\n",
            "\n",
            "\n",
            "A value is trying to be set on a copy of a slice from a DataFrame.\n",
            "Try using .loc[row_indexer,col_indexer] = value instead\n",
            "\n",
            "See the caveats in the documentation: https://pandas.pydata.org/pandas-docs/stable/user_guide/indexing.html#returning-a-view-versus-a-copy\n",
            "\n",
            "INFO:numexpr.utils:NumExpr defaulting to 2 threads.\n",
            "INFO:fbprophet:Disabling yearly seasonality. Run prophet with yearly_seasonality=True to override this.\n",
            "INFO:fbprophet:Disabling daily seasonality. Run prophet with daily_seasonality=True to override this.\n"
          ]
        },
        {
          "output_type": "execute_result",
          "data": {
            "text/plain": [
              "<fbprophet.forecaster.Prophet at 0x7fa354022490>"
            ]
          },
          "metadata": {},
          "execution_count": 27
        }
      ]
    },
    {
      "cell_type": "code",
      "metadata": {
        "colab": {
          "base_uri": "https://localhost:8080/",
          "height": 400
        },
        "id": "JAz4Uo4jIOze",
        "outputId": "f940f540-5f72-4ffd-c9e7-c2b47fa32c9c"
      },
      "source": [
        "# Making predictions for a year in advance \n",
        "\n",
        "future_dates=model.make_future_dataframe(periods=120,freq='1H',include_history = False)\n",
        "prediction=model.predict(future_dates)\n",
        "prediction.head()"
      ],
      "execution_count": 28,
      "outputs": [
        {
          "output_type": "execute_result",
          "data": {
            "text/html": [
              "<div>\n",
              "<style scoped>\n",
              "    .dataframe tbody tr th:only-of-type {\n",
              "        vertical-align: middle;\n",
              "    }\n",
              "\n",
              "    .dataframe tbody tr th {\n",
              "        vertical-align: top;\n",
              "    }\n",
              "\n",
              "    .dataframe thead th {\n",
              "        text-align: right;\n",
              "    }\n",
              "</style>\n",
              "<table border=\"1\" class=\"dataframe\">\n",
              "  <thead>\n",
              "    <tr style=\"text-align: right;\">\n",
              "      <th></th>\n",
              "      <th>ds</th>\n",
              "      <th>trend</th>\n",
              "      <th>yhat_lower</th>\n",
              "      <th>yhat_upper</th>\n",
              "      <th>trend_lower</th>\n",
              "      <th>trend_upper</th>\n",
              "      <th>additive_terms</th>\n",
              "      <th>additive_terms_lower</th>\n",
              "      <th>additive_terms_upper</th>\n",
              "      <th>weekly</th>\n",
              "      <th>weekly_lower</th>\n",
              "      <th>weekly_upper</th>\n",
              "      <th>multiplicative_terms</th>\n",
              "      <th>multiplicative_terms_lower</th>\n",
              "      <th>multiplicative_terms_upper</th>\n",
              "      <th>yhat</th>\n",
              "    </tr>\n",
              "  </thead>\n",
              "  <tbody>\n",
              "    <tr>\n",
              "      <th>0</th>\n",
              "      <td>2021-10-23 01:00:00</td>\n",
              "      <td>10422.221093</td>\n",
              "      <td>-11048.635386</td>\n",
              "      <td>31333.118310</td>\n",
              "      <td>10422.221093</td>\n",
              "      <td>10422.221093</td>\n",
              "      <td>42.455133</td>\n",
              "      <td>42.455133</td>\n",
              "      <td>42.455133</td>\n",
              "      <td>42.455133</td>\n",
              "      <td>42.455133</td>\n",
              "      <td>42.455133</td>\n",
              "      <td>0.0</td>\n",
              "      <td>0.0</td>\n",
              "      <td>0.0</td>\n",
              "      <td>10464.676226</td>\n",
              "    </tr>\n",
              "    <tr>\n",
              "      <th>1</th>\n",
              "      <td>2021-10-23 02:00:00</td>\n",
              "      <td>10422.391386</td>\n",
              "      <td>-12176.380643</td>\n",
              "      <td>30933.842567</td>\n",
              "      <td>10422.391386</td>\n",
              "      <td>10422.391386</td>\n",
              "      <td>39.208787</td>\n",
              "      <td>39.208787</td>\n",
              "      <td>39.208787</td>\n",
              "      <td>39.208787</td>\n",
              "      <td>39.208787</td>\n",
              "      <td>39.208787</td>\n",
              "      <td>0.0</td>\n",
              "      <td>0.0</td>\n",
              "      <td>0.0</td>\n",
              "      <td>10461.600173</td>\n",
              "    </tr>\n",
              "    <tr>\n",
              "      <th>2</th>\n",
              "      <td>2021-10-23 03:00:00</td>\n",
              "      <td>10422.561679</td>\n",
              "      <td>-12650.623574</td>\n",
              "      <td>34149.242839</td>\n",
              "      <td>10422.561679</td>\n",
              "      <td>10422.561679</td>\n",
              "      <td>35.860410</td>\n",
              "      <td>35.860410</td>\n",
              "      <td>35.860410</td>\n",
              "      <td>35.860410</td>\n",
              "      <td>35.860410</td>\n",
              "      <td>35.860410</td>\n",
              "      <td>0.0</td>\n",
              "      <td>0.0</td>\n",
              "      <td>0.0</td>\n",
              "      <td>10458.422089</td>\n",
              "    </tr>\n",
              "    <tr>\n",
              "      <th>3</th>\n",
              "      <td>2021-10-23 04:00:00</td>\n",
              "      <td>10422.731972</td>\n",
              "      <td>-10779.663596</td>\n",
              "      <td>31629.904654</td>\n",
              "      <td>10422.731972</td>\n",
              "      <td>10422.731972</td>\n",
              "      <td>32.438523</td>\n",
              "      <td>32.438523</td>\n",
              "      <td>32.438523</td>\n",
              "      <td>32.438523</td>\n",
              "      <td>32.438523</td>\n",
              "      <td>32.438523</td>\n",
              "      <td>0.0</td>\n",
              "      <td>0.0</td>\n",
              "      <td>0.0</td>\n",
              "      <td>10455.170495</td>\n",
              "    </tr>\n",
              "    <tr>\n",
              "      <th>4</th>\n",
              "      <td>2021-10-23 05:00:00</td>\n",
              "      <td>10422.902265</td>\n",
              "      <td>-11468.303551</td>\n",
              "      <td>32558.709164</td>\n",
              "      <td>10422.902265</td>\n",
              "      <td>10422.902265</td>\n",
              "      <td>28.971657</td>\n",
              "      <td>28.971657</td>\n",
              "      <td>28.971657</td>\n",
              "      <td>28.971657</td>\n",
              "      <td>28.971657</td>\n",
              "      <td>28.971657</td>\n",
              "      <td>0.0</td>\n",
              "      <td>0.0</td>\n",
              "      <td>0.0</td>\n",
              "      <td>10451.873922</td>\n",
              "    </tr>\n",
              "  </tbody>\n",
              "</table>\n",
              "</div>"
            ],
            "text/plain": [
              "                   ds         trend  ...  multiplicative_terms_upper          yhat\n",
              "0 2021-10-23 01:00:00  10422.221093  ...                         0.0  10464.676226\n",
              "1 2021-10-23 02:00:00  10422.391386  ...                         0.0  10461.600173\n",
              "2 2021-10-23 03:00:00  10422.561679  ...                         0.0  10458.422089\n",
              "3 2021-10-23 04:00:00  10422.731972  ...                         0.0  10455.170495\n",
              "4 2021-10-23 05:00:00  10422.902265  ...                         0.0  10451.873922\n",
              "\n",
              "[5 rows x 16 columns]"
            ]
          },
          "metadata": {},
          "execution_count": 28
        }
      ]
    },
    {
      "cell_type": "code",
      "metadata": {
        "colab": {
          "base_uri": "https://localhost:8080/",
          "height": 865
        },
        "id": "43Pqno6FLKmB",
        "outputId": "a2481be2-bf99-40ce-cb64-99e77c0c7305"
      },
      "source": [
        "# Plotting the model components \n",
        "\n",
        "model.plot_components(prediction)"
      ],
      "execution_count": 29,
      "outputs": [
        {
          "output_type": "execute_result",
          "data": {
            "image/png": "[encoded data removed]",
            "text/plain": [
              "<Figure size 648x432 with 2 Axes>"
            ]
          },
          "metadata": {},
          "execution_count": 29
        },
        {
          "output_type": "display_data",
          "data": {
            "image/png": "[encoded data removed]",
            "text/plain": [
              "<Figure size 648x432 with 2 Axes>"
            ]
          },
          "metadata": {}
        }
      ]
    },
    {
      "cell_type": "code",
      "metadata": {
        "colab": {
          "base_uri": "https://localhost:8080/",
          "height": 865
        },
        "id": "5GACpa9HLWPs",
        "outputId": "d1583d5f-7074-41ef-83e1-0bf0129eb9bc"
      },
      "source": [
        "# Plotting the prediction\n",
        "\n",
        "model.plot(prediction)"
      ],
      "execution_count": 30,
      "outputs": [
        {
          "output_type": "execute_result",
          "data": {
            "image/png": "[encoded data removed]",
            "text/plain": [
              "<Figure size 720x432 with 1 Axes>"
            ]
          },
          "metadata": {},
          "execution_count": 30
        },
        {
          "output_type": "display_data",
          "data": {
            "image/png": "[encoded data removed]",
            "text/plain": [
              "<Figure size 720x432 with 1 Axes>"
            ]
          },
          "metadata": {}
        }
      ]
    },
    {
      "cell_type": "code",
      "metadata": {
        "colab": {
          "base_uri": "https://localhost:8080/",
          "height": 473,
          "referenced_widgets": [
            "1f7b04b5d46d4d919ac42b61bede35d0",
            "95ba974b0c174960af978d8425e341d2",
            "6e5d04576c924c1195e3e739cfbfea09",
            "4301541dab37499a951a68634faa8aea",
            "cac10573e1af4c7c96920b139291d582",
            "ade3b910164e406d96c698cc84a5b04c",
            "5682e1ede1d44650b8e29095cb2d6266",
            "a3ebf88eb0d4421da89286b0376a2160",
            "ee765cd812144fab95d757de069c2301",
            "29a63616e09d487b9b79fbe375b5e41a",
            "ec97e71d1f55440cbb73c8a5918df24a"
          ]
        },
        "id": "pqpYmNrYLwsi",
        "outputId": "6b5f4eb9-d1d2-4253-e869-abf65dc4c6e1"
      },
      "source": [
        "#cross validation for dataset.\n",
        "from fbprophet.diagnostics import cross_validation\n",
        "from fbprophet.diagnostics import performance_metrics\n",
        "from fbprophet.plot import plot_cross_validation_metric\n",
        "\n",
        "df_cv_results = cross_validation(model, horizon = '2190 hours') # 2190?\n",
        "df_cv_results "
      ],
      "execution_count": 32,
      "outputs": [
        {
          "output_type": "stream",
          "name": "stderr",
          "text": [
            "INFO:fbprophet:Making 1 forecasts with cutoffs between 2021-07-23 18:00:00 and 2021-07-23 18:00:00\n"
          ]
        },
        {
          "output_type": "display_data",
          "data": {
            "application/vnd.jupyter.widget-view+json": {
              "model_id": "1f7b04b5d46d4d919ac42b61bede35d0",
              "version_minor": 0,
              "version_major": 2
            },
            "text/plain": [
              "  0%|          | 0/1 [00:00<?, ?it/s]"
            ]
          },
          "metadata": {}
        },
        {
          "output_type": "execute_result",
          "data": {
            "text/html": [
              "<div>\n",
              "<style scoped>\n",
              "    .dataframe tbody tr th:only-of-type {\n",
              "        vertical-align: middle;\n",
              "    }\n",
              "\n",
              "    .dataframe tbody tr th {\n",
              "        vertical-align: top;\n",
              "    }\n",
              "\n",
              "    .dataframe thead th {\n",
              "        text-align: right;\n",
              "    }\n",
              "</style>\n",
              "<table border=\"1\" class=\"dataframe\">\n",
              "  <thead>\n",
              "    <tr style=\"text-align: right;\">\n",
              "      <th></th>\n",
              "      <th>ds</th>\n",
              "      <th>yhat</th>\n",
              "      <th>yhat_lower</th>\n",
              "      <th>yhat_upper</th>\n",
              "      <th>y</th>\n",
              "      <th>cutoff</th>\n",
              "    </tr>\n",
              "  </thead>\n",
              "  <tbody>\n",
              "    <tr>\n",
              "      <th>0</th>\n",
              "      <td>2021-07-24</td>\n",
              "      <td>7873.129038</td>\n",
              "      <td>-11560.249328</td>\n",
              "      <td>30322.314325</td>\n",
              "      <td>2189.22</td>\n",
              "      <td>2021-07-23 18:00:00</td>\n",
              "    </tr>\n",
              "    <tr>\n",
              "      <th>1</th>\n",
              "      <td>2021-07-24</td>\n",
              "      <td>7873.129038</td>\n",
              "      <td>-11149.638048</td>\n",
              "      <td>28568.995969</td>\n",
              "      <td>34292.45</td>\n",
              "      <td>2021-07-23 18:00:00</td>\n",
              "    </tr>\n",
              "    <tr>\n",
              "      <th>2</th>\n",
              "      <td>2021-07-24</td>\n",
              "      <td>7873.129038</td>\n",
              "      <td>-13650.352755</td>\n",
              "      <td>26821.125149</td>\n",
              "      <td>302.07</td>\n",
              "      <td>2021-07-23 18:00:00</td>\n",
              "    </tr>\n",
              "    <tr>\n",
              "      <th>3</th>\n",
              "      <td>2021-07-24</td>\n",
              "      <td>7873.129038</td>\n",
              "      <td>-13664.894663</td>\n",
              "      <td>30323.129853</td>\n",
              "      <td>1.23</td>\n",
              "      <td>2021-07-23 18:00:00</td>\n",
              "    </tr>\n",
              "    <tr>\n",
              "      <th>4</th>\n",
              "      <td>2021-07-24</td>\n",
              "      <td>7873.129038</td>\n",
              "      <td>-12421.711969</td>\n",
              "      <td>28330.390329</td>\n",
              "      <td>1.00</td>\n",
              "      <td>2021-07-23 18:00:00</td>\n",
              "    </tr>\n",
              "    <tr>\n",
              "      <th>...</th>\n",
              "      <td>...</td>\n",
              "      <td>...</td>\n",
              "      <td>...</td>\n",
              "      <td>...</td>\n",
              "      <td>...</td>\n",
              "      <td>...</td>\n",
              "    </tr>\n",
              "    <tr>\n",
              "      <th>455</th>\n",
              "      <td>2021-10-23</td>\n",
              "      <td>5409.468798</td>\n",
              "      <td>-16465.820160</td>\n",
              "      <td>26385.246382</td>\n",
              "      <td>485.91</td>\n",
              "      <td>2021-07-23 18:00:00</td>\n",
              "    </tr>\n",
              "    <tr>\n",
              "      <th>456</th>\n",
              "      <td>2021-10-23</td>\n",
              "      <td>5409.468798</td>\n",
              "      <td>-16445.568029</td>\n",
              "      <td>26026.379334</td>\n",
              "      <td>4171.66</td>\n",
              "      <td>2021-07-23 18:00:00</td>\n",
              "    </tr>\n",
              "    <tr>\n",
              "      <th>457</th>\n",
              "      <td>2021-10-23</td>\n",
              "      <td>5409.468798</td>\n",
              "      <td>-14895.679203</td>\n",
              "      <td>26272.296262</td>\n",
              "      <td>2.17</td>\n",
              "      <td>2021-07-23 18:00:00</td>\n",
              "    </tr>\n",
              "    <tr>\n",
              "      <th>458</th>\n",
              "      <td>2021-10-23</td>\n",
              "      <td>5409.468798</td>\n",
              "      <td>-13901.647282</td>\n",
              "      <td>26775.699600</td>\n",
              "      <td>1.00</td>\n",
              "      <td>2021-07-23 18:00:00</td>\n",
              "    </tr>\n",
              "    <tr>\n",
              "      <th>459</th>\n",
              "      <td>2021-10-23</td>\n",
              "      <td>5409.468798</td>\n",
              "      <td>-15352.207095</td>\n",
              "      <td>25483.533051</td>\n",
              "      <td>61393.62</td>\n",
              "      <td>2021-07-23 18:00:00</td>\n",
              "    </tr>\n",
              "  </tbody>\n",
              "</table>\n",
              "<p>460 rows × 6 columns</p>\n",
              "</div>"
            ],
            "text/plain": [
              "            ds         yhat  ...         y              cutoff\n",
              "0   2021-07-24  7873.129038  ...   2189.22 2021-07-23 18:00:00\n",
              "1   2021-07-24  7873.129038  ...  34292.45 2021-07-23 18:00:00\n",
              "2   2021-07-24  7873.129038  ...    302.07 2021-07-23 18:00:00\n",
              "3   2021-07-24  7873.129038  ...      1.23 2021-07-23 18:00:00\n",
              "4   2021-07-24  7873.129038  ...      1.00 2021-07-23 18:00:00\n",
              "..         ...          ...  ...       ...                 ...\n",
              "455 2021-10-23  5409.468798  ...    485.91 2021-07-23 18:00:00\n",
              "456 2021-10-23  5409.468798  ...   4171.66 2021-07-23 18:00:00\n",
              "457 2021-10-23  5409.468798  ...      2.17 2021-07-23 18:00:00\n",
              "458 2021-10-23  5409.468798  ...      1.00 2021-07-23 18:00:00\n",
              "459 2021-10-23  5409.468798  ...  61393.62 2021-07-23 18:00:00\n",
              "\n",
              "[460 rows x 6 columns]"
            ]
          },
          "metadata": {},
          "execution_count": 32
        }
      ]
    },
    {
      "cell_type": "code",
      "metadata": {
        "colab": {
          "base_uri": "https://localhost:8080/",
          "height": 424
        },
        "id": "rPMDyQ49MH8q",
        "outputId": "98428cc5-5226-476d-e2b9-d9646e640610"
      },
      "source": [
        "df_perf_metrics = performance_metrics(df_cv_results)\n",
        "df_perf_metrics\n",
        "\n"
      ],
      "execution_count": 34,
      "outputs": [
        {
          "output_type": "execute_result",
          "data": {
            "text/html": [
              "<div>\n",
              "<style scoped>\n",
              "    .dataframe tbody tr th:only-of-type {\n",
              "        vertical-align: middle;\n",
              "    }\n",
              "\n",
              "    .dataframe tbody tr th {\n",
              "        vertical-align: top;\n",
              "    }\n",
              "\n",
              "    .dataframe thead th {\n",
              "        text-align: right;\n",
              "    }\n",
              "</style>\n",
              "<table border=\"1\" class=\"dataframe\">\n",
              "  <thead>\n",
              "    <tr style=\"text-align: right;\">\n",
              "      <th></th>\n",
              "      <th>horizon</th>\n",
              "      <th>mse</th>\n",
              "      <th>rmse</th>\n",
              "      <th>mae</th>\n",
              "      <th>mape</th>\n",
              "      <th>mdape</th>\n",
              "      <th>coverage</th>\n",
              "    </tr>\n",
              "  </thead>\n",
              "  <tbody>\n",
              "    <tr>\n",
              "      <th>0</th>\n",
              "      <td>9 days 06:00:00</td>\n",
              "      <td>2.414344e+08</td>\n",
              "      <td>15538.158955</td>\n",
              "      <td>11962.404713</td>\n",
              "      <td>2752.057447</td>\n",
              "      <td>23.584461</td>\n",
              "      <td>0.8</td>\n",
              "    </tr>\n",
              "    <tr>\n",
              "      <th>1</th>\n",
              "      <td>10 days 06:00:00</td>\n",
              "      <td>2.451510e+08</td>\n",
              "      <td>15657.297753</td>\n",
              "      <td>12004.340867</td>\n",
              "      <td>2728.393694</td>\n",
              "      <td>23.119028</td>\n",
              "      <td>0.8</td>\n",
              "    </tr>\n",
              "    <tr>\n",
              "      <th>2</th>\n",
              "      <td>11 days 06:00:00</td>\n",
              "      <td>2.487824e+08</td>\n",
              "      <td>15772.836429</td>\n",
              "      <td>12039.193868</td>\n",
              "      <td>2707.537595</td>\n",
              "      <td>22.271404</td>\n",
              "      <td>0.8</td>\n",
              "    </tr>\n",
              "    <tr>\n",
              "      <th>3</th>\n",
              "      <td>12 days 06:00:00</td>\n",
              "      <td>2.513184e+08</td>\n",
              "      <td>15853.025228</td>\n",
              "      <td>12052.082023</td>\n",
              "      <td>2687.675442</td>\n",
              "      <td>21.994184</td>\n",
              "      <td>0.8</td>\n",
              "    </tr>\n",
              "    <tr>\n",
              "      <th>4</th>\n",
              "      <td>13 days 06:00:00</td>\n",
              "      <td>2.555530e+08</td>\n",
              "      <td>15986.024817</td>\n",
              "      <td>12085.582069</td>\n",
              "      <td>2666.671738</td>\n",
              "      <td>21.994184</td>\n",
              "      <td>0.8</td>\n",
              "    </tr>\n",
              "    <tr>\n",
              "      <th>...</th>\n",
              "      <td>...</td>\n",
              "      <td>...</td>\n",
              "      <td>...</td>\n",
              "      <td>...</td>\n",
              "      <td>...</td>\n",
              "      <td>...</td>\n",
              "      <td>...</td>\n",
              "    </tr>\n",
              "    <tr>\n",
              "      <th>78</th>\n",
              "      <td>87 days 06:00:00</td>\n",
              "      <td>6.059398e+08</td>\n",
              "      <td>24615.844976</td>\n",
              "      <td>14476.248053</td>\n",
              "      <td>1644.746242</td>\n",
              "      <td>10.992087</td>\n",
              "      <td>0.8</td>\n",
              "    </tr>\n",
              "    <tr>\n",
              "      <th>79</th>\n",
              "      <td>88 days 06:00:00</td>\n",
              "      <td>6.281977e+08</td>\n",
              "      <td>25063.872399</td>\n",
              "      <td>14642.624448</td>\n",
              "      <td>1637.212970</td>\n",
              "      <td>10.903149</td>\n",
              "      <td>0.8</td>\n",
              "    </tr>\n",
              "    <tr>\n",
              "      <th>80</th>\n",
              "      <td>89 days 06:00:00</td>\n",
              "      <td>6.422376e+08</td>\n",
              "      <td>25342.406899</td>\n",
              "      <td>14742.195124</td>\n",
              "      <td>1629.292804</td>\n",
              "      <td>10.824903</td>\n",
              "      <td>0.8</td>\n",
              "    </tr>\n",
              "    <tr>\n",
              "      <th>81</th>\n",
              "      <td>90 days 06:00:00</td>\n",
              "      <td>6.508621e+08</td>\n",
              "      <td>25511.999444</td>\n",
              "      <td>14794.122738</td>\n",
              "      <td>1621.733482</td>\n",
              "      <td>10.690232</td>\n",
              "      <td>0.8</td>\n",
              "    </tr>\n",
              "    <tr>\n",
              "      <th>82</th>\n",
              "      <td>91 days 06:00:00</td>\n",
              "      <td>6.607050e+08</td>\n",
              "      <td>25704.182340</td>\n",
              "      <td>14857.027230</td>\n",
              "      <td>1614.120699</td>\n",
              "      <td>10.472736</td>\n",
              "      <td>0.8</td>\n",
              "    </tr>\n",
              "  </tbody>\n",
              "</table>\n",
              "<p>83 rows × 7 columns</p>\n",
              "</div>"
            ],
            "text/plain": [
              "            horizon           mse  ...      mdape  coverage\n",
              "0   9 days 06:00:00  2.414344e+08  ...  23.584461       0.8\n",
              "1  10 days 06:00:00  2.451510e+08  ...  23.119028       0.8\n",
              "2  11 days 06:00:00  2.487824e+08  ...  22.271404       0.8\n",
              "3  12 days 06:00:00  2.513184e+08  ...  21.994184       0.8\n",
              "4  13 days 06:00:00  2.555530e+08  ...  21.994184       0.8\n",
              "..              ...           ...  ...        ...       ...\n",
              "78 87 days 06:00:00  6.059398e+08  ...  10.992087       0.8\n",
              "79 88 days 06:00:00  6.281977e+08  ...  10.903149       0.8\n",
              "80 89 days 06:00:00  6.422376e+08  ...  10.824903       0.8\n",
              "81 90 days 06:00:00  6.508621e+08  ...  10.690232       0.8\n",
              "82 91 days 06:00:00  6.607050e+08  ...  10.472736       0.8\n",
              "\n",
              "[83 rows x 7 columns]"
            ]
          },
          "metadata": {},
          "execution_count": 34
        }
      ]
    },
    {
      "cell_type": "markdown",
      "metadata": {
        "id": "N6dekdNRMkGT"
      },
      "source": [
        "**Observation**\n",
        "\n",
        "For the horizon of 9 days , we can see that RMSE 15538 and it increases with increase in horizon."
      ]
    },
    {
      "cell_type": "code",
      "metadata": {
        "colab": {
          "base_uri": "https://localhost:8080/",
          "height": 388
        },
        "id": "oVlDLJf3MwuY",
        "outputId": "768fd365-472a-4294-e894-72d3f08d0535"
      },
      "source": [
        "#Plotting the RMSE\n",
        "\n",
        "fig = plot_cross_validation_metric(df_cv_results, metric='rmse')"
      ],
      "execution_count": 36,
      "outputs": [
        {
          "output_type": "display_data",
          "data": {
            "image/png": "[encoded data removed]",
            "text/plain": [
              "<Figure size 720x432 with 1 Axes>"
            ]
          },
          "metadata": {}
        }
      ]
    },
    {
      "cell_type": "code",
      "metadata": {
        "id": "Y5_zlFaMNCf8"
      },
      "source": [
        ""
      ],
      "execution_count": null,
      "outputs": []
    }
  ]
}